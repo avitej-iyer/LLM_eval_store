{
 "cells": [
  {
   "cell_type": "code",
   "execution_count": 1,
   "id": "171eeae6-5dfc-46e9-8bb8-1049a5c50f9b",
   "metadata": {},
   "outputs": [],
   "source": [
    "from utils.response_eval import score_llm_performance"
   ]
  },
  {
   "cell_type": "code",
   "execution_count": 2,
   "id": "6666a08f-2647-4601-8a9b-d7986add6d2b",
   "metadata": {},
   "outputs": [
    {
     "name": "stdout",
     "output_type": "stream",
     "text": [
      "Count is :  826.3173672751645\n",
      "Average rank score =  0.8263173672751646\n",
      "Average sim real =  0.48292212729100004\n",
      "False positive rate =  0.908\n",
      "False negative rate =  0.001\n"
     ]
    }
   ],
   "source": [
    "score = score_llm_performance(\"data/gemma runs/simrank_processed_terms.tsv\", \"\\t\", \"gemma\", alpha = 0.4, beta = 0.4, gamma = 0.1, delta = 0.1, epsilon = 0.0)"
   ]
  },
  {
   "cell_type": "code",
   "execution_count": 3,
   "id": "8d597445-75a8-408a-a69a-f86cc15700fc",
   "metadata": {},
   "outputs": [
    {
     "name": "stdout",
     "output_type": "stream",
     "text": [
      "0.6327957978264658\n"
     ]
    }
   ],
   "source": [
    "print(score)"
   ]
  },
  {
   "cell_type": "code",
   "execution_count": 4,
   "id": "dec3e573-d8f8-4c9f-b071-8d8bc8e0cebc",
   "metadata": {},
   "outputs": [
    {
     "name": "stdout",
     "output_type": "stream",
     "text": [
      "Count is :  814.8523697873061\n",
      "Average rank score =  0.8148523697873061\n",
      "Average sim real =  0.48092986773999996\n",
      "False positive rate =  0.639\n",
      "False negative rate =  0.088\n"
     ]
    }
   ],
   "source": [
    "score = score_llm_performance(\"data/llama runs/simrank_processed_terms.tsv\", \"\\t\", \"llama\")"
   ]
  },
  {
   "cell_type": "code",
   "execution_count": 5,
   "id": "87b22a0a-131a-43f1-8583-82cfb2f36d93",
   "metadata": {},
   "outputs": [
    {
     "name": "stdout",
     "output_type": "stream",
     "text": [
      "0.6599564475054612\n"
     ]
    }
   ],
   "source": [
    "print(score)"
   ]
  },
  {
   "cell_type": "code",
   "execution_count": 3,
   "id": "f0b94e3b-f2da-411c-bd6a-82cdee5a8ea6",
   "metadata": {},
   "outputs": [],
   "source": [
    "import pandas as pd"
   ]
  },
  {
   "cell_type": "code",
   "execution_count": 5,
   "id": "cb00e9fc-0e35-4ad4-9ee4-fc2c3a4d86a9",
   "metadata": {},
   "outputs": [],
   "source": [
    "test_df = pd.read_csv(\"data/gemma runs/simrank_processed_terms.tsv\", sep = \"\\t\")"
   ]
  },
  {
   "cell_type": "code",
   "execution_count": 6,
   "id": "c4c51717-23d6-461b-b4a2-a6812f783e1e",
   "metadata": {},
   "outputs": [
    {
     "data": {
      "text/plain": [
       "Index(['GO', 'Genes', 'Gene_Count', 'Term_Description',\n",
       "       '50perc_contaminated_Genes', '100perc_contaminated_Genes',\n",
       "       'gemma_assigned_name', 'gemma_assigned_analysis',\n",
       "       'gemma_assigned_score', 'gemma_assigned_name_50_perc',\n",
       "       'gemma_assigned_analysis_50_perc', 'gemma_assigned_score_50_perc',\n",
       "       'gemma_assigned_name_100_perc', 'gemma_assigned_analysis_100_perc',\n",
       "       'gemma_assigned_score_100_perc', 'LLM_name_GO_term_sim', 'sim_rank',\n",
       "       'true_GO_term_sim_percentile', 'random_GO_name', 'random_go_llm_sim',\n",
       "       'random_sim_rank', 'random_sim_percentile', 'top_3_hits', 'top_3_sim'],\n",
       "      dtype='object')"
      ]
     },
     "execution_count": 6,
     "metadata": {},
     "output_type": "execute_result"
    }
   ],
   "source": [
    "test_df.columns"
   ]
  },
  {
   "cell_type": "code",
   "execution_count": 8,
   "id": "d15a94f9-0759-4e5b-8d04-ad113b97ec7e",
   "metadata": {},
   "outputs": [
    {
     "data": {
      "text/plain": [
       "0                               neural crest development\n",
       "1                    pancreatic development and function\n",
       "2                                   bile acid metabolism\n",
       "3                           regulation of mrna stability\n",
       "4               xenobiotic metabolism and detoxification\n",
       "                             ...                        \n",
       "995      mitotic spindle assembly and checkpoint control\n",
       "996                     ciliary function and maintenance\n",
       "997    protein translocation into the endoplasmic ret...\n",
       "998                          cell adhesion and migration\n",
       "999                          cellular response to stress\n",
       "Name: gemma_assigned_name, Length: 1000, dtype: object"
      ]
     },
     "execution_count": 8,
     "metadata": {},
     "output_type": "execute_result"
    }
   ],
   "source": [
    "test_df['gemma_assigned_name'].str.lower()"
   ]
  },
  {
   "cell_type": "code",
   "execution_count": 13,
   "id": "bdee6b8b-4a97-41c0-8c70-0747c06d67fc",
   "metadata": {},
   "outputs": [
    {
     "data": {
      "text/html": [
       "<div>\n",
       "<style scoped>\n",
       "    .dataframe tbody tr th:only-of-type {\n",
       "        vertical-align: middle;\n",
       "    }\n",
       "\n",
       "    .dataframe tbody tr th {\n",
       "        vertical-align: top;\n",
       "    }\n",
       "\n",
       "    .dataframe thead th {\n",
       "        text-align: right;\n",
       "    }\n",
       "</style>\n",
       "<table border=\"1\" class=\"dataframe\">\n",
       "  <thead>\n",
       "    <tr style=\"text-align: right;\">\n",
       "      <th></th>\n",
       "      <th>GO</th>\n",
       "      <th>Genes</th>\n",
       "      <th>Gene_Count</th>\n",
       "      <th>Term_Description</th>\n",
       "      <th>50perc_contaminated_Genes</th>\n",
       "      <th>100perc_contaminated_Genes</th>\n",
       "      <th>gemma_assigned_name</th>\n",
       "      <th>gemma_assigned_analysis</th>\n",
       "      <th>gemma_assigned_score</th>\n",
       "      <th>gemma_assigned_name_50_perc</th>\n",
       "      <th>...</th>\n",
       "      <th>gemma_assigned_score_100_perc</th>\n",
       "      <th>LLM_name_GO_term_sim</th>\n",
       "      <th>sim_rank</th>\n",
       "      <th>true_GO_term_sim_percentile</th>\n",
       "      <th>random_GO_name</th>\n",
       "      <th>random_go_llm_sim</th>\n",
       "      <th>random_sim_rank</th>\n",
       "      <th>random_sim_percentile</th>\n",
       "      <th>top_3_hits</th>\n",
       "      <th>top_3_sim</th>\n",
       "    </tr>\n",
       "  </thead>\n",
       "  <tbody>\n",
       "    <tr>\n",
       "      <th>0</th>\n",
       "      <td>GO:0048627</td>\n",
       "      <td>MEGF10 SDC1 WNT10B SOX15</td>\n",
       "      <td>4</td>\n",
       "      <td>myoblast development</td>\n",
       "      <td>MEGF10 WNT10B PDP2 INSL5</td>\n",
       "      <td>ENPP6 NAA80 BBS7 AJUBA</td>\n",
       "      <td>Neural crest development</td>\n",
       "      <td>1. MEGF10 (Multiple EGF-like domains 10) is a ...</td>\n",
       "      <td>0.85</td>\n",
       "      <td>Testis development and function</td>\n",
       "      <td>...</td>\n",
       "      <td>0.75</td>\n",
       "      <td>0.676369</td>\n",
       "      <td>105</td>\n",
       "      <td>0.991208</td>\n",
       "      <td>cardiac conduction</td>\n",
       "      <td>0.451560</td>\n",
       "      <td>1624</td>\n",
       "      <td>0.864021</td>\n",
       "      <td>neural crest cell development|neural crest for...</td>\n",
       "      <td>0.9866001|0.9651274|0.929587</td>\n",
       "    </tr>\n",
       "    <tr>\n",
       "      <th>1</th>\n",
       "      <td>GO:1904888</td>\n",
       "      <td>CPLANE2 NEUROG1 GRHL2 TGFB3 EXT1 TGFBR2 TWIST1...</td>\n",
       "      <td>72</td>\n",
       "      <td>cranial skeletal system development</td>\n",
       "      <td>TFAP2A SIX4 MTHFD1L FGFR2 GNA11 TGFB3 IFT140 M...</td>\n",
       "      <td>LIFR ASB7 DEDD2 WSB1 USP51 OR2V2 CREBZF ELOVL4...</td>\n",
       "      <td>Pancreatic development and function</td>\n",
       "      <td>1.  Several transcription factors are present ...</td>\n",
       "      <td>0.82</td>\n",
       "      <td>Epithelial Development and Differentiation</td>\n",
       "      <td>...</td>\n",
       "      <td>0.62</td>\n",
       "      <td>0.496900</td>\n",
       "      <td>623</td>\n",
       "      <td>0.947836</td>\n",
       "      <td>glucosamine-containing compound catabolic process</td>\n",
       "      <td>0.217051</td>\n",
       "      <td>8970</td>\n",
       "      <td>0.248932</td>\n",
       "      <td>pancreas development|endocrine pancreas develo...</td>\n",
       "      <td>0.9215152|0.89642286|0.8767479</td>\n",
       "    </tr>\n",
       "    <tr>\n",
       "      <th>2</th>\n",
       "      <td>GO:0019585</td>\n",
       "      <td>DCXR UGT1A9 UGT2B7 PRKCE UGT1A7 UGT2A3 SORD UG...</td>\n",
       "      <td>26</td>\n",
       "      <td>glucuronate metabolic process</td>\n",
       "      <td>AKR1A1 DCXR UGT2A1 UGT2B7 UGT2A2 UGT2B28 UGT1A...</td>\n",
       "      <td>MSRB2 RAB3A DLL1 ERCC2 PIP4K2B HOXB13 TIMM50 Z...</td>\n",
       "      <td>Bile acid metabolism</td>\n",
       "      <td>The majority of the proteins in this system ar...</td>\n",
       "      <td>0.85</td>\n",
       "      <td>Drug Metabolism and Detoxification</td>\n",
       "      <td>...</td>\n",
       "      <td>0.72</td>\n",
       "      <td>0.620173</td>\n",
       "      <td>40</td>\n",
       "      <td>0.996651</td>\n",
       "      <td>metaphase/anaphase transition of meiotic cell ...</td>\n",
       "      <td>0.321718</td>\n",
       "      <td>3444</td>\n",
       "      <td>0.711630</td>\n",
       "      <td>bile acid metabolic process|regulation of bile...</td>\n",
       "      <td>0.9847262|0.8150886|0.8120016</td>\n",
       "    </tr>\n",
       "    <tr>\n",
       "      <th>3</th>\n",
       "      <td>GO:1902267</td>\n",
       "      <td>AZIN1 OAZ2 OAZ1 AZIN2 OAZ3</td>\n",
       "      <td>5</td>\n",
       "      <td>regulation of polyamine transmembrane transport</td>\n",
       "      <td>AZIN1 OAZ1 OR10A4 ZBTB10 BLNK</td>\n",
       "      <td>AP4B1 ULK4 MYCBP2 CD86 YTHDC2</td>\n",
       "      <td>Regulation of mRNA stability</td>\n",
       "      <td>AZIN1, AZIN2, OAZ1, OAZ2, and OAZ3 are all pro...</td>\n",
       "      <td>0.85</td>\n",
       "      <td>B Cell Receptor Signaling</td>\n",
       "      <td>...</td>\n",
       "      <td>0.75</td>\n",
       "      <td>0.410067</td>\n",
       "      <td>673</td>\n",
       "      <td>0.943649</td>\n",
       "      <td>keratinocyte migration</td>\n",
       "      <td>0.193496</td>\n",
       "      <td>7641</td>\n",
       "      <td>0.360211</td>\n",
       "      <td>regulation of mRNA stability|regulation of RNA...</td>\n",
       "      <td>1.0000001|0.9282088|0.8479206</td>\n",
       "    </tr>\n",
       "    <tr>\n",
       "      <th>4</th>\n",
       "      <td>GO:0019748</td>\n",
       "      <td>BDH2 CYP2A7 AKR1C1 ACMSD ATP7A ASIP DDT CYP3A4...</td>\n",
       "      <td>56</td>\n",
       "      <td>secondary metabolic process</td>\n",
       "      <td>AKR7A2 FMO1 UGT1A8 APPL1 WNT5A SULT1C4 ACMSD M...</td>\n",
       "      <td>CHRNB3 H2BC7 PSD ARL5B CLEC4C BSPH1 FREY1 POTE...</td>\n",
       "      <td>Xenobiotic Metabolism and Detoxification</td>\n",
       "      <td>The protein system exhibits a strong bias towa...</td>\n",
       "      <td>0.75</td>\n",
       "      <td>Xenobiotic Metabolism and Detoxification</td>\n",
       "      <td>...</td>\n",
       "      <td>0.65</td>\n",
       "      <td>0.591795</td>\n",
       "      <td>38</td>\n",
       "      <td>0.996818</td>\n",
       "      <td>mammalian oogenesis stage</td>\n",
       "      <td>0.365003</td>\n",
       "      <td>2308</td>\n",
       "      <td>0.806749</td>\n",
       "      <td>xenobiotic metabolic process|detoxification|xe...</td>\n",
       "      <td>0.91964316|0.81050265|0.7913702</td>\n",
       "    </tr>\n",
       "  </tbody>\n",
       "</table>\n",
       "<p>5 rows × 24 columns</p>\n",
       "</div>"
      ],
      "text/plain": [
       "           GO                                              Genes  Gene_Count  \\\n",
       "0  GO:0048627                           MEGF10 SDC1 WNT10B SOX15           4   \n",
       "1  GO:1904888  CPLANE2 NEUROG1 GRHL2 TGFB3 EXT1 TGFBR2 TWIST1...          72   \n",
       "2  GO:0019585  DCXR UGT1A9 UGT2B7 PRKCE UGT1A7 UGT2A3 SORD UG...          26   \n",
       "3  GO:1902267                         AZIN1 OAZ2 OAZ1 AZIN2 OAZ3           5   \n",
       "4  GO:0019748  BDH2 CYP2A7 AKR1C1 ACMSD ATP7A ASIP DDT CYP3A4...          56   \n",
       "\n",
       "                                  Term_Description  \\\n",
       "0                             myoblast development   \n",
       "1              cranial skeletal system development   \n",
       "2                    glucuronate metabolic process   \n",
       "3  regulation of polyamine transmembrane transport   \n",
       "4                      secondary metabolic process   \n",
       "\n",
       "                           50perc_contaminated_Genes  \\\n",
       "0                           MEGF10 WNT10B PDP2 INSL5   \n",
       "1  TFAP2A SIX4 MTHFD1L FGFR2 GNA11 TGFB3 IFT140 M...   \n",
       "2  AKR1A1 DCXR UGT2A1 UGT2B7 UGT2A2 UGT2B28 UGT1A...   \n",
       "3                      AZIN1 OAZ1 OR10A4 ZBTB10 BLNK   \n",
       "4  AKR7A2 FMO1 UGT1A8 APPL1 WNT5A SULT1C4 ACMSD M...   \n",
       "\n",
       "                          100perc_contaminated_Genes  \\\n",
       "0                             ENPP6 NAA80 BBS7 AJUBA   \n",
       "1  LIFR ASB7 DEDD2 WSB1 USP51 OR2V2 CREBZF ELOVL4...   \n",
       "2  MSRB2 RAB3A DLL1 ERCC2 PIP4K2B HOXB13 TIMM50 Z...   \n",
       "3                      AP4B1 ULK4 MYCBP2 CD86 YTHDC2   \n",
       "4  CHRNB3 H2BC7 PSD ARL5B CLEC4C BSPH1 FREY1 POTE...   \n",
       "\n",
       "                         gemma_assigned_name  \\\n",
       "0                   Neural crest development   \n",
       "1        Pancreatic development and function   \n",
       "2                       Bile acid metabolism   \n",
       "3               Regulation of mRNA stability   \n",
       "4   Xenobiotic Metabolism and Detoxification   \n",
       "\n",
       "                             gemma_assigned_analysis  gemma_assigned_score  \\\n",
       "0  1. MEGF10 (Multiple EGF-like domains 10) is a ...                  0.85   \n",
       "1  1.  Several transcription factors are present ...                  0.82   \n",
       "2  The majority of the proteins in this system ar...                  0.85   \n",
       "3  AZIN1, AZIN2, OAZ1, OAZ2, and OAZ3 are all pro...                  0.85   \n",
       "4  The protein system exhibits a strong bias towa...                  0.75   \n",
       "\n",
       "                   gemma_assigned_name_50_perc  ...  \\\n",
       "0              Testis development and function  ...   \n",
       "1   Epithelial Development and Differentiation  ...   \n",
       "2           Drug Metabolism and Detoxification  ...   \n",
       "3                    B Cell Receptor Signaling  ...   \n",
       "4     Xenobiotic Metabolism and Detoxification  ...   \n",
       "\n",
       "  gemma_assigned_score_100_perc  LLM_name_GO_term_sim sim_rank  \\\n",
       "0                          0.75              0.676369      105   \n",
       "1                          0.62              0.496900      623   \n",
       "2                          0.72              0.620173       40   \n",
       "3                          0.75              0.410067      673   \n",
       "4                          0.65              0.591795       38   \n",
       "\n",
       "  true_GO_term_sim_percentile  \\\n",
       "0                    0.991208   \n",
       "1                    0.947836   \n",
       "2                    0.996651   \n",
       "3                    0.943649   \n",
       "4                    0.996818   \n",
       "\n",
       "                                      random_GO_name  random_go_llm_sim  \\\n",
       "0                                 cardiac conduction           0.451560   \n",
       "1  glucosamine-containing compound catabolic process           0.217051   \n",
       "2  metaphase/anaphase transition of meiotic cell ...           0.321718   \n",
       "3                             keratinocyte migration           0.193496   \n",
       "4                          mammalian oogenesis stage           0.365003   \n",
       "\n",
       "   random_sim_rank  random_sim_percentile  \\\n",
       "0             1624               0.864021   \n",
       "1             8970               0.248932   \n",
       "2             3444               0.711630   \n",
       "3             7641               0.360211   \n",
       "4             2308               0.806749   \n",
       "\n",
       "                                          top_3_hits  \\\n",
       "0  neural crest cell development|neural crest for...   \n",
       "1  pancreas development|endocrine pancreas develo...   \n",
       "2  bile acid metabolic process|regulation of bile...   \n",
       "3  regulation of mRNA stability|regulation of RNA...   \n",
       "4  xenobiotic metabolic process|detoxification|xe...   \n",
       "\n",
       "                         top_3_sim  \n",
       "0     0.9866001|0.9651274|0.929587  \n",
       "1   0.9215152|0.89642286|0.8767479  \n",
       "2    0.9847262|0.8150886|0.8120016  \n",
       "3    1.0000001|0.9282088|0.8479206  \n",
       "4  0.91964316|0.81050265|0.7913702  \n",
       "\n",
       "[5 rows x 24 columns]"
      ]
     },
     "execution_count": 13,
     "metadata": {},
     "output_type": "execute_result"
    }
   ],
   "source": [
    "test_df.head()"
   ]
  },
  {
   "cell_type": "code",
   "execution_count": 9,
   "id": "3d1cd03e-2652-4301-a858-bd9c8b803b28",
   "metadata": {},
   "outputs": [],
   "source": [
    "model_name = \"gemma\""
   ]
  },
  {
   "cell_type": "code",
   "execution_count": 27,
   "id": "f06f2758-a0fc-4cea-87be-ce151ace798b",
   "metadata": {},
   "outputs": [],
   "source": [
    "unrelated_count = test_df[\"gemma_assigned_name_50_perc\"].eq(\"System of unrelated proteins\").sum() + test_df[\"gemma_assigned_name_50_perc\"].eq(\"system of unrelated proteins\").sum()"
   ]
  },
  {
   "cell_type": "code",
   "execution_count": 28,
   "id": "5ae43819-1e71-4273-b5e3-fa045ac97711",
   "metadata": {},
   "outputs": [
    {
     "name": "stdout",
     "output_type": "stream",
     "text": [
      "32\n"
     ]
    }
   ],
   "source": [
    "print(unrelated_count)"
   ]
  },
  {
   "cell_type": "code",
   "execution_count": null,
   "id": "9c6dbd72-befe-49ee-9f93-88169d89c1dd",
   "metadata": {},
   "outputs": [],
   "source": []
  }
 ],
 "metadata": {
  "kernelspec": {
   "display_name": "Python 3 (ipykernel)",
   "language": "python",
   "name": "python3"
  },
  "language_info": {
   "codemirror_mode": {
    "name": "ipython",
    "version": 3
   },
   "file_extension": ".py",
   "mimetype": "text/x-python",
   "name": "python",
   "nbconvert_exporter": "python",
   "pygments_lexer": "ipython3",
   "version": "3.12.8"
  }
 },
 "nbformat": 4,
 "nbformat_minor": 5
}
