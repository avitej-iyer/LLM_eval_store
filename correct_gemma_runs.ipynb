{
 "cells": [
  {
   "cell_type": "code",
   "execution_count": 1,
   "id": "66a03772-e586-4f35-9443-0b6947636dd3",
   "metadata": {},
   "outputs": [],
   "source": [
    "import pandas as pd"
   ]
  },
  {
   "cell_type": "code",
   "execution_count": 2,
   "id": "5a06f080-b5c4-44b8-9af5-4f5d430f38ef",
   "metadata": {},
   "outputs": [],
   "source": [
    "df = pd.read_csv(\"data/gemma runs/GO_1000_set_processed_merged.tsv\", sep = \"\\t\")"
   ]
  },
  {
   "cell_type": "code",
   "execution_count": 5,
   "id": "a6f01da7-2e28-4d80-87b6-81d9ac8f7b34",
   "metadata": {},
   "outputs": [
    {
     "data": {
      "text/plain": [
       "Index(['GO', 'Genes', 'Gene_Count', 'Term_Description',\n",
       "       '50perc_contaminated_Genes', '100perc_contaminated_Genes',\n",
       "       'gemma_assigned_name', 'gemma_assigned_analysis',\n",
       "       'gemma_assigned_score', 'gemma_assigned_name_50_perc',\n",
       "       'gemma_assigned_analysis_50_perc', 'gemma_assigned_score_50_perc',\n",
       "       'gemma_assigned_name_100_perc', 'gemma_assigned_analysis_100_perc',\n",
       "       'gemma_assigned_score_100_perc'],\n",
       "      dtype='object')"
      ]
     },
     "execution_count": 5,
     "metadata": {},
     "output_type": "execute_result"
    }
   ],
   "source": [
    "df.columns"
   ]
  },
  {
   "cell_type": "code",
   "execution_count": 14,
   "id": "159238ba-2d52-46b7-82e2-a1afd4acd023",
   "metadata": {},
   "outputs": [],
   "source": [
    "# Assuming your DataFrame is named df\n",
    "# Define the mapping of name columns to their corresponding score columns\n",
    "columns_mapping = {\n",
    "    \"gemma_assigned_name\": \"gemma_assigned_score\",\n",
    "    \"gemma_assigned_name_50_perc\": \"gemma_assigned_score_50_perc\",\n",
    "    \"gemma_assigned_name_100_perc\": \"gemma_assigned_score_100_perc\"\n",
    "}\n",
    "\n",
    "# Iterate through each name column and its corresponding score column\n",
    "for name_col, score_col in columns_mapping.items():\n",
    "    # Update the name column\n",
    "    df[name_col] = df[name_col].replace(\" System of Unrelated Proteins (0.00)\", \"System of unrelated proteins\")\n",
    "    \n",
    "    # Update the corresponding score column where the name was changed and the score is empty\n",
    "    df.loc[df[name_col] == \"System of unrelated proteins\", score_col] = 0.00\n"
   ]
  },
  {
   "cell_type": "code",
   "execution_count": 16,
   "id": "f2b56e06-4312-45ea-bdaa-14d53a3a5cf3",
   "metadata": {},
   "outputs": [],
   "source": [
    "df.to_csv(\"data/gemma runs/GO_1000_set_processed_merged_corrected.tsv\",sep = \"\\t\", index=False)"
   ]
  },
  {
   "cell_type": "code",
   "execution_count": 15,
   "id": "50e808ad-17ad-454e-b32a-d50b8539e20d",
   "metadata": {},
   "outputs": [
    {
     "data": {
      "text/plain": [
       "'System of unrelated proteins'"
      ]
     },
     "execution_count": 15,
     "metadata": {},
     "output_type": "execute_result"
    }
   ],
   "source": [
    "df.loc[595][\"gemma_assigned_name_100_perc\"]"
   ]
  },
  {
   "cell_type": "code",
   "execution_count": null,
   "id": "f1bc82b2-2895-47b6-83e1-ea736663db64",
   "metadata": {},
   "outputs": [],
   "source": []
  }
 ],
 "metadata": {
  "kernelspec": {
   "display_name": "Python 3 (ipykernel)",
   "language": "python",
   "name": "python3"
  },
  "language_info": {
   "codemirror_mode": {
    "name": "ipython",
    "version": 3
   },
   "file_extension": ".py",
   "mimetype": "text/x-python",
   "name": "python",
   "nbconvert_exporter": "python",
   "pygments_lexer": "ipython3",
   "version": "3.12.8"
  }
 },
 "nbformat": 4,
 "nbformat_minor": 5
}
