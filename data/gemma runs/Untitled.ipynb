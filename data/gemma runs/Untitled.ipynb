{
 "cells": [
  {
   "cell_type": "code",
   "execution_count": 1,
   "id": "4b79fab4-f0de-40b8-a6c9-898ab63c09a3",
   "metadata": {},
   "outputs": [],
   "source": [
    "import pandas as pd"
   ]
  },
  {
   "cell_type": "code",
   "execution_count": 6,
   "id": "b74c0050-a0fb-43f2-a138-14163123e5be",
   "metadata": {},
   "outputs": [],
   "source": [
    "df_50 = pd.read_csv(\"GO_1000_set_processed_50_perc.tsv\", sep=\"\\t\")\n",
    "df_100 = pd.read_csv(\"GO_1000_set_processed_100_perc.tsv\", sep=\"\\t\")"
   ]
  },
  {
   "cell_type": "code",
   "execution_count": 7,
   "id": "366cf50f-8be9-4b12-a8d9-1ddf28cb29ac",
   "metadata": {},
   "outputs": [
    {
     "data": {
      "text/plain": [
       "Index(['Unnamed: 0', 'GO', 'Genes', 'Gene_Count', 'Term_Description',\n",
       "       '50perc_contaminated_Genes', '100perc_contaminated_Genes',\n",
       "       'llama_assigned_name_50_perc', 'llama_assigned_analysis_50_perc',\n",
       "       'llama_assigned_score_50_perc'],\n",
       "      dtype='object')"
      ]
     },
     "execution_count": 7,
     "metadata": {},
     "output_type": "execute_result"
    }
   ],
   "source": [
    "df_50.columns"
   ]
  },
  {
   "cell_type": "code",
   "execution_count": 8,
   "id": "ab5e7946-e2b9-4e08-825e-81920a691a25",
   "metadata": {},
   "outputs": [],
   "source": [
    "df_50.rename(columns={'llama_assigned_name_50_perc': 'gemma_assigned_name_50_perc', 'llama_assigned_analysis_50_perc': 'gemma_assigned_analysis_50_perc', 'llama_assigned_score_50_perc' : 'gemma_assigned_score_50_perc'}, inplace=True)\n",
    "df_100.rename(columns={'llama_assigned_name_100_perc': 'gemma_assigned_name_100_perc', 'llama_assigned_analysis_100_perc': 'gemma_assigned_analysis_100_perc', 'llama_assigned_score_100_perc' : 'gemma_assigned_score_100_perc'}, inplace=True)"
   ]
  },
  {
   "cell_type": "code",
   "execution_count": 12,
   "id": "b0fb466a-6cf5-447f-9399-f46d06e83640",
   "metadata": {},
   "outputs": [],
   "source": [
    "df_50.to_csv(\"GO_1000_set_processed_50_perc.tsv\", sep='\\t', index=True)\n",
    "df_100.to_csv(\"GO_1000_set_processed_100_perc.tsv\", sep='\\t', index=True)"
   ]
  },
  {
   "cell_type": "code",
   "execution_count": 13,
   "id": "f00470c8-e292-483c-ba4b-82495b315345",
   "metadata": {},
   "outputs": [],
   "source": [
    "df = pd.read_csv(\"GO_1000_set_processed.tsv\", sep=\"\\t\")"
   ]
  },
  {
   "cell_type": "code",
   "execution_count": 14,
   "id": "8dabd098-5f7b-42d0-8092-06a0bf5390fd",
   "metadata": {},
   "outputs": [
    {
     "data": {
      "text/plain": [
       "Index(['Unnamed: 0', 'GO', 'Genes', 'Gene_Count', 'Term_Description',\n",
       "       '50perc_contaminated_Genes', '100perc_contaminated_Genes',\n",
       "       'gemma_assigned_name_50_perc', 'gemma_assigned_analysis_50_perc',\n",
       "       'gemma_assigned_score_50_perc'],\n",
       "      dtype='object')"
      ]
     },
     "execution_count": 14,
     "metadata": {},
     "output_type": "execute_result"
    }
   ],
   "source": [
    "df_50.columns"
   ]
  },
  {
   "cell_type": "code",
   "execution_count": 15,
   "id": "4e981265-162e-4db3-99f8-2a1c1f18bf4e",
   "metadata": {},
   "outputs": [
    {
     "data": {
      "text/plain": [
       "Index(['Unnamed: 0.2', 'Unnamed: 0.1', 'Unnamed: 0', 'GO', 'Genes',\n",
       "       'Gene_Count', 'Term_Description', '50perc_contaminated_Genes',\n",
       "       '100perc_contaminated_Genes', 'gemma_assigned_name',\n",
       "       'gemma_assigned_analysis', 'gemma_assigned_score'],\n",
       "      dtype='object')"
      ]
     },
     "execution_count": 15,
     "metadata": {},
     "output_type": "execute_result"
    }
   ],
   "source": [
    "df.columns"
   ]
  },
  {
   "cell_type": "code",
   "execution_count": 16,
   "id": "023eb5db-4123-421d-bd3b-445ca1c42357",
   "metadata": {},
   "outputs": [
    {
     "data": {
      "text/plain": [
       "Index(['Unnamed: 0', 'GO', 'Genes', 'Gene_Count', 'Term_Description',\n",
       "       '50perc_contaminated_Genes', '100perc_contaminated_Genes',\n",
       "       'gemma_assigned_name_100_perc', 'gemma_assigned_analysis_100_perc',\n",
       "       'gemma_assigned_score_100_perc'],\n",
       "      dtype='object')"
      ]
     },
     "execution_count": 16,
     "metadata": {},
     "output_type": "execute_result"
    }
   ],
   "source": [
    "df_100.columns"
   ]
  },
  {
   "cell_type": "code",
   "execution_count": 17,
   "id": "be62868a-1ab2-47fb-87ad-9c72ba81a0a2",
   "metadata": {},
   "outputs": [],
   "source": [
    "df = df.drop(columns=[col for col in df.columns if \"Unnamed\" in col], errors='ignore')\n",
    "df_50 = df_50.drop(columns=[col for col in df_50.columns if \"Unnamed\" in col], errors='ignore')\n",
    "df_100 = df_100.drop(columns=[col for col in df_100.columns if \"Unnamed\" in col], errors='ignore')\n",
    "\n",
    "# Merge on common columns ('GO', 'Genes', etc.)\n",
    "final_df = df.merge(df_50, on=['GO', 'Genes', 'Gene_Count', 'Term_Description', \n",
    "                                '50perc_contaminated_Genes', '100perc_contaminated_Genes'], how='left')\n",
    "\n",
    "final_df = final_df.merge(df_100, on=['GO', 'Genes', 'Gene_Count', 'Term_Description', \n",
    "                                      '50perc_contaminated_Genes', '100perc_contaminated_Genes'], how='left')\n",
    "\n",
    "# Select columns in desired order\n",
    "final_columns = ['GO', 'Genes', 'Gene_Count', 'Term_Description', '50perc_contaminated_Genes',\n",
    "                 '100perc_contaminated_Genes', 'gemma_assigned_name', 'gemma_assigned_analysis', \n",
    "                 'gemma_assigned_score', 'gemma_assigned_name_50_perc', 'gemma_assigned_analysis_50_perc',\n",
    "                 'gemma_assigned_score_50_perc', 'gemma_assigned_name_100_perc', 'gemma_assigned_analysis_100_perc',\n",
    "                 'gemma_assigned_score_100_perc']\n",
    "\n",
    "# Reorder columns\n",
    "final_df = final_df[final_columns]\n",
    "\n",
    "# Save final merged dataframe\n",
    "#final_df.to_csv(\"merged_output.tsv\", sep='\\t', index=False)\n"
   ]
  },
  {
   "cell_type": "code",
   "execution_count": 18,
   "id": "d29fda99-1037-49cf-84cd-81589e65621e",
   "metadata": {},
   "outputs": [],
   "source": [
    "final_df.to_csv(\"GO_1000_set_processed_merged.tsv\", sep = \"\\t\", index = False)"
   ]
  },
  {
   "cell_type": "code",
   "execution_count": null,
   "id": "77d5d4d2-ff11-451c-9998-83d5c54deef0",
   "metadata": {},
   "outputs": [],
   "source": []
  }
 ],
 "metadata": {
  "kernelspec": {
   "display_name": "Python 3 (ipykernel)",
   "language": "python",
   "name": "python3"
  },
  "language_info": {
   "codemirror_mode": {
    "name": "ipython",
    "version": 3
   },
   "file_extension": ".py",
   "mimetype": "text/x-python",
   "name": "python",
   "nbconvert_exporter": "python",
   "pygments_lexer": "ipython3",
   "version": "3.12.8"
  }
 },
 "nbformat": 4,
 "nbformat_minor": 5
}
