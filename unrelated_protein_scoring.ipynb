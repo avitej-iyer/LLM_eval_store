{
 "cells": [
  {
   "cell_type": "code",
   "execution_count": 1,
   "id": "c8d5a1e4-e92d-4cb2-9f49-998b98b6a34a",
   "metadata": {
    "editable": true,
    "slideshow": {
     "slide_type": ""
    },
    "tags": []
   },
   "outputs": [],
   "source": [
    "import pandas as pd"
   ]
  },
  {
   "cell_type": "code",
   "execution_count": null,
   "id": "908af561-64f2-4d60-8239-53c6dc33e640",
   "metadata": {},
   "outputs": [],
   "source": []
  },
  {
   "cell_type": "code",
   "execution_count": 2,
   "id": "4a583495-ff9c-46f0-85d1-0c1a212abadf",
   "metadata": {},
   "outputs": [],
   "source": [
    "# mapping for llama\n",
    "columns_mapping = {\n",
    "    \"llama_assigned_name\": \"llama_assigned_score\",\n",
    "    \"llama_assigned_name_50_perc\": \"llama_assigned_score_50_perc\",\n",
    "    \"llama_assigned_name_100_perc\": \"llama_assigned_score_100_perc\"\n",
    "}\n",
    "\n",
    "df = pd.read_csv(\"data/llama runs/GO_1000_set_processed_100_perc.tsv\", sep = \"\\t\")"
   ]
  },
  {
   "cell_type": "code",
   "execution_count": 5,
   "id": "018e44e3-2777-425b-90d3-8fcf0bc3c0d9",
   "metadata": {},
   "outputs": [],
   "source": [
    "#mapping for gemma\n",
    "columns_mapping = {\n",
    "    \"gemma_assigned_name\": \"gemma_assigned_score\",\n",
    "    \"gemma_assigned_name_50_perc\": \"gemma_assigned_score_50_perc\",\n",
    "    \"gemma_assigned_name_100_perc\": \"gemma_assigned_score_100_perc\"\n",
    "}\n",
    "\n",
    "df = pd.read_csv(\"data/gemma runs/GO_1000_set_processed_merged_corrected.tsv\", sep = \"\\t\")"
   ]
  },
  {
   "cell_type": "code",
   "execution_count": 4,
   "id": "5b9fe808-8760-4506-ba39-0ab67932adad",
   "metadata": {},
   "outputs": [
    {
     "name": "stdout",
     "output_type": "stream",
     "text": [
      "llama_assigned_name has 88 gene sets named with unrelated proteins, 8.80%\n",
      "llama_assigned_name has 93 gene sets with score 0, 9.30%\n",
      "--------------------\n",
      "llama_assigned_name_50_perc has 229 gene sets named with unrelated proteins, 22.90%\n",
      "llama_assigned_name_50_perc has 232 gene sets with score 0, 23.20%\n",
      "--------------------\n",
      "llama_assigned_name_100_perc has 361 gene sets named with unrelated proteins, 36.10%\n",
      "llama_assigned_name_100_perc has 372 gene sets with score 0, 37.20%\n",
      "--------------------\n"
     ]
    }
   ],
   "source": [
    "# Ensure all score columns are numeric\n",
    "for score_col in columns_mapping.values():\n",
    "    df[score_col] = pd.to_numeric(df[score_col], errors='coerce')\n",
    "\n",
    "# Summarizing data for output similar to your screenshot\n",
    "output = []\n",
    "\n",
    "# Iterate over column mappings and generate summaries\n",
    "for name_col, score_col in columns_mapping.items():\n",
    "    unrelated_count = df[name_col].eq(\"System of unrelated proteins\").sum()  # Count of unrelated proteins\n",
    "    score_zero_count = df[score_col].eq(0.00).sum()  # Count of score = 0.00\n",
    "    total_rows = len(df)  # Total rows in the DataFrame\n",
    "\n",
    "    # Calculate percentages\n",
    "    unrelated_percent = (unrelated_count / total_rows) * 100 if total_rows > 0 else 0\n",
    "    score_zero_percent = (score_zero_count / total_rows) * 100 if total_rows > 0 else 0\n",
    "\n",
    "    # Append results to output\n",
    "    output.append(\n",
    "        f\"{name_col} has {unrelated_count} gene sets named with unrelated proteins, {unrelated_percent:.2f}%\"\n",
    "    )\n",
    "    output.append(\n",
    "        f\"{name_col} has {score_zero_count} gene sets with score 0, {score_zero_percent:.2f}%\"\n",
    "    )\n",
    "    output.append(\"-\" * 20)\n",
    "\n",
    "# Display output\n",
    "output_text = \"\\n\".join(output)\n",
    "print(output_text)\n"
   ]
  },
  {
   "cell_type": "code",
   "execution_count": 6,
   "id": "fdb6c22c-35de-46db-91c8-6f71949d0e53",
   "metadata": {},
   "outputs": [
    {
     "name": "stdout",
     "output_type": "stream",
     "text": [
      "gemma_assigned_name has 1 gene sets named with unrelated proteins, 0.10%\n",
      "gemma_assigned_name has 1 gene sets with score 0, 0.10%\n",
      "--------------------\n",
      "gemma_assigned_name_50_perc has 32 gene sets named with unrelated proteins, 3.20%\n",
      "gemma_assigned_name_50_perc has 37 gene sets with score 0, 3.70%\n",
      "--------------------\n",
      "gemma_assigned_name_100_perc has 92 gene sets named with unrelated proteins, 9.20%\n",
      "gemma_assigned_name_100_perc has 111 gene sets with score 0, 11.10%\n",
      "--------------------\n"
     ]
    }
   ],
   "source": [
    "# Ensure all score columns are numeric\n",
    "for score_col in columns_mapping.values():\n",
    "    df[score_col] = pd.to_numeric(df[score_col], errors='coerce')\n",
    "\n",
    "# Summarizing data for output similar to your screenshot\n",
    "output = []\n",
    "\n",
    "# Iterate over column mappings and generate summaries\n",
    "for name_col, score_col in columns_mapping.items():\n",
    "    unrelated_count = df[name_col].eq(\"System of unrelated proteins\").sum()  # Count of unrelated proteins\n",
    "    score_zero_count = df[score_col].eq(0.00).sum()  # Count of score = 0.00\n",
    "    total_rows = len(df)  # Total rows in the DataFrame\n",
    "\n",
    "    # Calculate percentages\n",
    "    unrelated_percent = (unrelated_count / total_rows) * 100 if total_rows > 0 else 0\n",
    "    score_zero_percent = (score_zero_count / total_rows) * 100 if total_rows > 0 else 0\n",
    "\n",
    "    # Append results to output\n",
    "    output.append(\n",
    "        f\"{name_col} has {unrelated_count} gene sets named with unrelated proteins, {unrelated_percent:.2f}%\"\n",
    "    )\n",
    "    output.append(\n",
    "        f\"{name_col} has {score_zero_count} gene sets with score 0, {score_zero_percent:.2f}%\"\n",
    "    )\n",
    "    output.append(\"-\" * 20)\n",
    "\n",
    "# Display output\n",
    "output_text = \"\\n\".join(output)\n",
    "print(output_text)\n"
   ]
  },
  {
   "cell_type": "code",
   "execution_count": null,
   "id": "f15ef935-859b-45c6-9b93-95dd68ce919f",
   "metadata": {},
   "outputs": [],
   "source": []
  }
 ],
 "metadata": {
  "kernelspec": {
   "display_name": "Python 3 (ipykernel)",
   "language": "python",
   "name": "python3"
  },
  "language_info": {
   "codemirror_mode": {
    "name": "ipython",
    "version": 3
   },
   "file_extension": ".py",
   "mimetype": "text/x-python",
   "name": "python",
   "nbconvert_exporter": "python",
   "pygments_lexer": "ipython3",
   "version": "3.12.8"
  }
 },
 "nbformat": 4,
 "nbformat_minor": 5
}
