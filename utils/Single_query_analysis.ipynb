{
 "cells": [
  {
   "cell_type": "code",
   "execution_count": 1,
   "id": "ee908d62-4e33-4975-83f6-dee920dbadf1",
   "metadata": {},
   "outputs": [],
   "source": [
    "# test query\n",
    "# import these in function\n",
    "\n",
    "GO_name = \"positive regulation of steroid metabolic process\"\n",
    "GO_total_terms = 11943\n",
    "\n",
    "LLM_analysis = \"\"\" Process: Lipid Metabolism and Inflammation (0.80)\n",
    "\n",
    "1. STAR (Steroidogenic Acute Regulatory Protein) is involved in the transport of cholesterol from the outer to the inner mitochondrial membrane, which is a crucial step in the synthesis of steroid hormones.\n",
    "2. WNT4 (Wingless-type MMTV integration site family, member 4) is a secreted glycoprotein that plays a key role in the development of female reproductive system, but also regulates lipid metabolism by controlling the expression of genes involved in lipogenesis and lipolysis.\n",
    "3. ADM (Adrenomedullin) is a potent vasodilator and regulates lipid metabolism by modulating lipolysis in adipose tissue and lipogenesis in the liver.\n",
    "4. APOE (Apolipoprotein E) is a key component of lipoproteins involved in the transport and metabolism of cholesterol and triglycerides.\n",
    "5. CES1 (Carboxylesterase 1) hydrolyzes various esters, including cholesteryl esters, and plays a role in the metabolism of cholesterol and triglycerides.\n",
    "6. STARD4 (Steroidogenic Acute Regulatory Protein Domain Containing 4) is involved in the regulation of cholesterol transport and homeostasis.\n",
    "7. NR1D1 (Nuclear Receptor Subfamily 1, Group D, Member 1) is a transcription factor that regulates lipid metabolism, particularly fatty acid oxidation and glucose homeostasis.\n",
    "8. TNF (Tumor Necrosis Factor) is a cytokine that plays a role in inflammation and immune response, but also regulates lipid metabolism by inducing lipolysis in adipocytes.\n",
    "9. FSHB (Follicle-Stimulating Hormone Beta Subunit) is involved in the regulation of lipid metabolism by controlling the synthesis of sex hormones, which in turn affect lipid metabolism.\n",
    "10. BMP6 (Bone Morphogenetic Protein 6) is a member of the transforming growth factor beta (TGF-β) superfamily and regulates lipid metabolism by affecting adipogenesis and lipolysis.\n",
    "11. CGA (Chromogranin A) is a precursor protein for several peptides, including pancreatic polypeptide, which regulates lipid metabolism by affecting glucose and lipid uptake in adipocytes.\n",
    "12. APOA1 (Apolipoprotein A-I) is a major protein component of high-density lipoproteins (HDL) and plays a crucial role in the metabolism of cholesterol and triglycerides.\n",
    "13. SCAP (SREBP Cleavage-Activating Protein) is involved in the regulation of lipid metabolism by controlling the processing and activation of sterol regulatory element-binding proteins (SREBPs), which are transcription factors that regulate the expression of genes involved in lipid synthesis.\n",
    "14. PRKAA1 (AMP-Activated Protein Kinase Alpha 1) is a serine/threonine kinase that regulates lipid metabolism by affecting lipogenesis, lipolysis, and glucose metabolism.\n",
    "15. IGF1R (Insulin-like Growth Factor 1 Receptor) is a receptor for insulin-like growth factor 1 (IGF-1), which regulates lipid metabolism by affecting adipogenesis, lipolysis, and glucose metabolism.\n",
    "16. SREBF2 (Sterol Regulatory Element-Binding Transcription Factor 2) is a transcription factor that regulates lipid metabolism, particularly fatty acid synthesis and cholesterol homeostasis.\n",
    "17. IL1A (Interleukin 1 Alpha) is a cytokine that plays a role in inflammation and immune response, but also regulates lipid metabolism by inducing lipolysis in adipocytes.\n",
    "18. FGF1 (Fibroblast Growth Factor 1) is a growth factor that regulates lipid metabolism by affecting adipogenesis, lipolysis, and glucose metabolism.\n",
    "19. LDLRAP1 (Low-Density Lipoprotein Receptor-Associated Protein 1) is involved in the uptake and metabolism of low-density lipoproteins (LDL), which are important in the transport and metabolism of cholesterol.\n",
    "20. ABCG4 (ATP-Binding Cassette Subfamily G Member 4) is a transporter involved in the efflux of cholesterol and phospholipids, which affects cholesterol homeostasis.\n",
    "21. IFNG (Interferon Gamma) is a cytokine that plays a role in the immune response, but also regulates lipid metabolism by affecting adipogenesis and lipolysis.\n",
    "22. CYP7A1 (Cytochrome P450 Family 7 Subfamily A Member 1) is involved in the conversion of cholesterol to bile acids, which is a crucial step in the metabolism of cholesterol.\n",
    "23. DAB2 (Disabled Homolog 2) is involved in the regulation of lipid metabolism by affecting adipogenesis and lipolysis.\n",
    "24. SREBF1 (Sterol Regulatory Element-Binding Transcription Factor 1) is a transcription factor that regulates lipid metabolism, particularly fatty acid synthesis and cholesterol homeostasis.\n",
    "25. ABCG1 (ATP-Binding Cassette Subfamily G Member 1) is a transporter involved in the efflux of cholesterol and phospholipids, which affects cholesterol homeostasis.\n",
    "\n",
    "To summarize, the genes in this set are involved in the regulation of lipid metabolism, with a particular emphasis on cholesterol metabolism, lipogenesis, lipolysis, and adipogenesis. Many of these proteins are also involved in inflammation, suggesting that the system may play a role in the regulation of inflammation in response to changes in lipid metabolism. The proteins in this system interact in complex ways, with some proteins having synergistic effects and others having antagonistic effects on lipid metabolism. The system as a whole appears to be involved in the maintenance of lipid homeostasis and the response to changes in lipid metabolism.\"\"\""
   ]
  },
  {
   "cell_type": "code",
   "execution_count": 2,
   "id": "4c78d765-2c58-414a-b06a-26d79f661e5e",
   "metadata": {},
   "outputs": [],
   "source": [
    "import pickle"
   ]
  },
  {
   "cell_type": "code",
   "execution_count": 3,
   "id": "d1848887-d0b7-4b9a-80d3-53c6922d247b",
   "metadata": {},
   "outputs": [
    {
     "name": "stderr",
     "output_type": "stream",
     "text": [
      "/tmp/ipykernel_129594/539380351.py:2: DeprecationWarning: numpy.core.numeric is deprecated and has been renamed to numpy._core.numeric. The numpy._core namespace contains private NumPy internals and its use is discouraged, as NumPy internals can change without warning in any release. In practice, most real-world usage of numpy.core is to access functionality in the public NumPy API. If that is the case, use the public NumPy API. If not, you are using NumPy internals. If you would still like to access an internal attribute, use numpy._core.numeric._frombuffer.\n",
      "  all_go_terms_embeddings_dict = pickle.load(handle)\n"
     ]
    }
   ],
   "source": [
    "with open(\"../data/all_go_terms_embeddings_dict.pkl\", \"rb\") as handle:\n",
    "    all_go_terms_embeddings_dict = pickle.load(handle)"
   ]
  },
  {
   "cell_type": "code",
   "execution_count": 4,
   "id": "8cf444f5-ef0a-430f-96d4-172fbabe58fa",
   "metadata": {},
   "outputs": [],
   "source": [
    "from response_eval import GO_single_score_performance"
   ]
  },
  {
   "cell_type": "code",
   "execution_count": 5,
   "id": "7d910eff-b071-49c3-9336-54572b902b2d",
   "metadata": {},
   "outputs": [
    {
     "name": "stderr",
     "output_type": "stream",
     "text": [
      "Asking to truncate to max_length but no maximum length is provided and the model has no predefined maximum length. Default to no truncation.\n"
     ]
    }
   ],
   "source": [
    "scorage = GO_single_score_performance(LLM_analysis, GO_name, all_go_terms_embeddings_dict)"
   ]
  },
  {
   "cell_type": "code",
   "execution_count": 6,
   "id": "b3cf522a-0edc-4942-8769-ffa1affb9175",
   "metadata": {},
   "outputs": [
    {
     "data": {
      "text/plain": [
       "[0.573866940262409, 0.350380003452301, 0.7973538770725171]"
      ]
     },
     "execution_count": 6,
     "metadata": {},
     "output_type": "execute_result"
    }
   ],
   "source": [
    "scorage"
   ]
  },
  {
   "cell_type": "code",
   "execution_count": null,
   "id": "d45f06f1-15c8-4abf-a2f0-0f4642c7c878",
   "metadata": {},
   "outputs": [],
   "source": []
  }
 ],
 "metadata": {
  "kernelspec": {
   "display_name": "Python 3 (ipykernel)",
   "language": "python",
   "name": "python3"
  },
  "language_info": {
   "codemirror_mode": {
    "name": "ipython",
    "version": 3
   },
   "file_extension": ".py",
   "mimetype": "text/x-python",
   "name": "python",
   "nbconvert_exporter": "python",
   "pygments_lexer": "ipython3",
   "version": "3.12.8"
  }
 },
 "nbformat": 4,
 "nbformat_minor": 5
}
